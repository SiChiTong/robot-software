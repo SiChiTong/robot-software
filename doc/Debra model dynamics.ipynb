{
 "cells": [
  {
   "cell_type": "code",
   "execution_count": 206,
   "metadata": {},
   "outputs": [],
   "source": [
    "%matplotlib inline\n",
    "import matplotlib.pyplot as plt\n",
    "import sympy as sp \n",
    "import numpy as np\n",
    "import pylab\n",
    "sp.init_printing()"
   ]
  },
  {
   "cell_type": "code",
   "execution_count": 207,
   "metadata": {},
   "outputs": [],
   "source": [
    "l1, l2 = sp.symbols('l1 l2', real=True)\n",
    "q1, q2 = sp.physics.vector.dynamicsymbols('q1 q2')\n",
    "m1, m2 = sp.symbols('m1 m2', real=True)\n",
    "I1_11, I1_12, I1_21, I1_22 = sp.symbols('I1_11 I1_12 I1_21 I1_22', real=True)\n",
    "I2_11, I2_12, I2_21, I2_22 = sp.symbols('I2_11 I2_12 I2_21 I2_22', real=True)\n",
    "I1 = sp.Matrix([[I1_11, I1_12], [I1_21, I1_22]])\n",
    "I2 = sp.Matrix([[I2_11, I2_12], [I2_21, I2_22]])"
   ]
  },
  {
   "cell_type": "code",
   "execution_count": 208,
   "metadata": {},
   "outputs": [
    {
     "data": {
      "text/latex": [
       "$$\\left[\\begin{matrix}l_{1} \\cos{\\left (\\operatorname{q_{1}}{\\left (t \\right )} \\right )}\\\\l_{1} \\sin{\\left (\\operatorname{q_{1}}{\\left (t \\right )} \\right )}\\end{matrix}\\right]$$"
      ],
      "text/plain": [
       "⎡l₁⋅cos(q₁(t))⎤\n",
       "⎢             ⎥\n",
       "⎣l₁⋅sin(q₁(t))⎦"
      ]
     },
     "execution_count": 208,
     "metadata": {},
     "output_type": "execute_result"
    }
   ],
   "source": [
    "x1 = l1 * sp.cos(q1)\n",
    "y1 = l1 * sp.sin(q1)\n",
    "X1 = sp.Matrix([x1, y1])\n",
    "X1"
   ]
  },
  {
   "cell_type": "code",
   "execution_count": 209,
   "metadata": {},
   "outputs": [
    {
     "data": {
      "text/latex": [
       "$$\\left[\\begin{matrix}l_{1} \\cos{\\left (\\operatorname{q_{1}}{\\left (t \\right )} \\right )} + l_{2} \\cos{\\left (\\operatorname{q_{1}}{\\left (t \\right )} + \\operatorname{q_{2}}{\\left (t \\right )} \\right )}\\\\l_{1} \\sin{\\left (\\operatorname{q_{1}}{\\left (t \\right )} \\right )} + l_{2} \\sin{\\left (\\operatorname{q_{1}}{\\left (t \\right )} + \\operatorname{q_{2}}{\\left (t \\right )} \\right )}\\end{matrix}\\right]$$"
      ],
      "text/plain": [
       "⎡l₁⋅cos(q₁(t)) + l₂⋅cos(q₁(t) + q₂(t))⎤\n",
       "⎢                                     ⎥\n",
       "⎣l₁⋅sin(q₁(t)) + l₂⋅sin(q₁(t) + q₂(t))⎦"
      ]
     },
     "execution_count": 209,
     "metadata": {},
     "output_type": "execute_result"
    }
   ],
   "source": [
    "x = x1 + l2 * sp.cos(q1 + q2)\n",
    "y = y1 + l2 * sp.sin(q1 + q2)\n",
    "X = sp.Matrix([x, y])\n",
    "X"
   ]
  },
  {
   "cell_type": "code",
   "execution_count": 210,
   "metadata": {},
   "outputs": [
    {
     "data": {
      "text/latex": [
       "$$\\left[\\begin{matrix}- l_{1} \\sin{\\left (\\operatorname{q_{1}}{\\left (t \\right )} \\right )} & 0\\\\l_{1} \\cos{\\left (\\operatorname{q_{1}}{\\left (t \\right )} \\right )} & 0\\end{matrix}\\right]$$"
      ],
      "text/plain": [
       "⎡-l₁⋅sin(q₁(t))  0⎤\n",
       "⎢                 ⎥\n",
       "⎣l₁⋅cos(q₁(t))   0⎦"
      ]
     },
     "execution_count": 210,
     "metadata": {},
     "output_type": "execute_result"
    }
   ],
   "source": [
    "J1 = X1.jacobian([q1, q2])\n",
    "J1"
   ]
  },
  {
   "cell_type": "code",
   "execution_count": 211,
   "metadata": {},
   "outputs": [
    {
     "data": {
      "text/latex": [
       "$$\\left[\\begin{matrix}- l_{1} \\sin{\\left (\\operatorname{q_{1}}{\\left (t \\right )} \\right )} - l_{2} \\sin{\\left (\\operatorname{q_{1}}{\\left (t \\right )} + \\operatorname{q_{2}}{\\left (t \\right )} \\right )} & - l_{2} \\sin{\\left (\\operatorname{q_{1}}{\\left (t \\right )} + \\operatorname{q_{2}}{\\left (t \\right )} \\right )}\\\\l_{1} \\cos{\\left (\\operatorname{q_{1}}{\\left (t \\right )} \\right )} + l_{2} \\cos{\\left (\\operatorname{q_{1}}{\\left (t \\right )} + \\operatorname{q_{2}}{\\left (t \\right )} \\right )} & l_{2} \\cos{\\left (\\operatorname{q_{1}}{\\left (t \\right )} + \\operatorname{q_{2}}{\\left (t \\right )} \\right )}\\end{matrix}\\right]$$"
      ],
      "text/plain": [
       "⎡-l₁⋅sin(q₁(t)) - l₂⋅sin(q₁(t) + q₂(t))  -l₂⋅sin(q₁(t) + q₂(t))⎤\n",
       "⎢                                                              ⎥\n",
       "⎣l₁⋅cos(q₁(t)) + l₂⋅cos(q₁(t) + q₂(t))   l₂⋅cos(q₁(t) + q₂(t)) ⎦"
      ]
     },
     "execution_count": 211,
     "metadata": {},
     "output_type": "execute_result"
    }
   ],
   "source": [
    "J = X.jacobian([q1, q2])\n",
    "J"
   ]
  },
  {
   "cell_type": "code",
   "execution_count": 212,
   "metadata": {},
   "outputs": [
    {
     "data": {
      "text/latex": [
       "$$\\left[\\begin{matrix}\\operatorname{q_{1}}{\\left (t \\right )}\\\\\\operatorname{q_{2}}{\\left (t \\right )}\\end{matrix}\\right]$$"
      ],
      "text/plain": [
       "⎡q₁(t)⎤\n",
       "⎢     ⎥\n",
       "⎣q₂(t)⎦"
      ]
     },
     "execution_count": 212,
     "metadata": {},
     "output_type": "execute_result"
    }
   ],
   "source": [
    "q = sp.Matrix([q1, q2])\n",
    "q"
   ]
  },
  {
   "cell_type": "code",
   "execution_count": 213,
   "metadata": {},
   "outputs": [
    {
     "data": {
      "text/latex": [
       "$$\\left[\\begin{matrix}\\frac{d}{d t} \\operatorname{q_{1}}{\\left (t \\right )}\\\\\\frac{d}{d t} \\operatorname{q_{2}}{\\left (t \\right )}\\end{matrix}\\right]$$"
      ],
      "text/plain": [
       "⎡d        ⎤\n",
       "⎢──(q₁(t))⎥\n",
       "⎢dt       ⎥\n",
       "⎢         ⎥\n",
       "⎢d        ⎥\n",
       "⎢──(q₂(t))⎥\n",
       "⎣dt       ⎦"
      ]
     },
     "execution_count": 213,
     "metadata": {},
     "output_type": "execute_result"
    }
   ],
   "source": [
    "q_dot = sp.diff(q)\n",
    "q_dot"
   ]
  },
  {
   "cell_type": "code",
   "execution_count": 214,
   "metadata": {},
   "outputs": [
    {
     "data": {
      "text/latex": [
       "$$\\left[\\begin{matrix}I_{1 11} + I_{2 11} & I_{2 12}\\\\I_{1 21} + I_{2 21} & I_{2 22}\\end{matrix}\\right]$$"
      ],
      "text/plain": [
       "⎡I₁ ₁₁ + I₂ ₁₁  I₂ ₁₂⎤\n",
       "⎢                    ⎥\n",
       "⎣I₁ ₂₁ + I₂ ₂₁  I₂ ₂₂⎦"
      ]
     },
     "execution_count": 214,
     "metadata": {},
     "output_type": "execute_result"
    }
   ],
   "source": [
    "I = I1 @ sp.Matrix([[1, 0], [0, 0]]) + I2\n",
    "I"
   ]
  },
  {
   "cell_type": "markdown",
   "metadata": {},
   "source": [
    "# Inertia matrix"
   ]
  },
  {
   "cell_type": "code",
   "execution_count": 215,
   "metadata": {},
   "outputs": [
    {
     "data": {
      "text/latex": [
       "$$\\left[\\begin{matrix}I_{1 11} + I_{2 11} + l_{1}^{2} m_{1} + l_{1}^{2} m_{2} + 2 l_{1} l_{2} m_{2} \\cos{\\left (\\operatorname{q_{2}}{\\left (t \\right )} \\right )} + l_{2}^{2} m_{2} & I_{2 12} + l_{1} l_{2} m_{2} \\cos{\\left (\\operatorname{q_{2}}{\\left (t \\right )} \\right )} + l_{2}^{2} m_{2}\\\\I_{1 21} + I_{2 21} + l_{1} l_{2} m_{2} \\cos{\\left (\\operatorname{q_{2}}{\\left (t \\right )} \\right )} + l_{2}^{2} m_{2} & I_{2 22} + l_{2}^{2} m_{2}\\end{matrix}\\right]$$"
      ],
      "text/plain": [
       "⎡                  2        2                                2                \n",
       "⎢I₁ ₁₁ + I₂ ₁₁ + l₁ ⋅m₁ + l₁ ⋅m₂ + 2⋅l₁⋅l₂⋅m₂⋅cos(q₂(t)) + l₂ ⋅m₂  I₂ ₁₂ + l₁⋅\n",
       "⎢                                                                             \n",
       "⎢                                                  2                          \n",
       "⎣          I₁ ₂₁ + I₂ ₂₁ + l₁⋅l₂⋅m₂⋅cos(q₂(t)) + l₂ ⋅m₂                       \n",
       "\n",
       "                     2   ⎤\n",
       "l₂⋅m₂⋅cos(q₂(t)) + l₂ ⋅m₂⎥\n",
       "                         ⎥\n",
       "          2              ⎥\n",
       "I₂ ₂₂ + l₂ ⋅m₂           ⎦"
      ]
     },
     "execution_count": 215,
     "metadata": {},
     "output_type": "execute_result"
    }
   ],
   "source": [
    "M = m1 @ J1.T @ J1 + m2 @ J.T @ J + I\n",
    "M = sp.simplify(M)\n",
    "M"
   ]
  },
  {
   "cell_type": "markdown",
   "metadata": {},
   "source": [
    "# Kinetic energy"
   ]
  },
  {
   "cell_type": "code",
   "execution_count": 216,
   "metadata": {
    "scrolled": true
   },
   "outputs": [
    {
     "data": {
      "text/latex": [
       "$$\\left[\\begin{matrix}\\left(0.5 \\left(I_{2 22} + l_{2}^{2} m_{2}\\right) \\frac{d}{d t} \\operatorname{q_{2}}{\\left (t \\right )} + 0.5 \\left(I_{2 12} + l_{1} l_{2} m_{2} \\cos{\\left (\\operatorname{q_{2}}{\\left (t \\right )} \\right )} + l_{2}^{2} m_{2}\\right) \\frac{d}{d t} \\operatorname{q_{1}}{\\left (t \\right )}\\right) \\frac{d}{d t} \\operatorname{q_{2}}{\\left (t \\right )} + \\left(0.5 \\left(I_{1 21} + I_{2 21} + l_{1} l_{2} m_{2} \\cos{\\left (\\operatorname{q_{2}}{\\left (t \\right )} \\right )} + l_{2}^{2} m_{2}\\right) \\frac{d}{d t} \\operatorname{q_{2}}{\\left (t \\right )} + 0.5 \\left(I_{1 11} + I_{2 11} + l_{1}^{2} m_{1} + l_{1}^{2} m_{2} + 2 l_{1} l_{2} m_{2} \\cos{\\left (\\operatorname{q_{2}}{\\left (t \\right )} \\right )} + l_{2}^{2} m_{2}\\right) \\frac{d}{d t} \\operatorname{q_{1}}{\\left (t \\right )}\\right) \\frac{d}{d t} \\operatorname{q_{1}}{\\left (t \\right )}\\end{matrix}\\right]$$"
      ],
      "text/plain": [
       "⎡⎛    ⎛          2   ⎞ d               ⎛                                2   ⎞ \n",
       "⎢⎜0.5⋅⎝I₂ ₂₂ + l₂ ⋅m₂⎠⋅──(q₂(t)) + 0.5⋅⎝I₂ ₁₂ + l₁⋅l₂⋅m₂⋅cos(q₂(t)) + l₂ ⋅m₂⎠⋅\n",
       "⎣⎝                     dt                                                     \n",
       "\n",
       "d        ⎞ d           ⎛    ⎛                                        2   ⎞ d  \n",
       "──(q₁(t))⎟⋅──(q₂(t)) + ⎜0.5⋅⎝I₁ ₂₁ + I₂ ₂₁ + l₁⋅l₂⋅m₂⋅cos(q₂(t)) + l₂ ⋅m₂⎠⋅──(\n",
       "dt       ⎠ dt          ⎝                                                   dt \n",
       "\n",
       "             ⎛                  2        2                                2   \n",
       "q₂(t)) + 0.5⋅⎝I₁ ₁₁ + I₂ ₁₁ + l₁ ⋅m₁ + l₁ ⋅m₂ + 2⋅l₁⋅l₂⋅m₂⋅cos(q₂(t)) + l₂ ⋅m₂\n",
       "                                                                              \n",
       "\n",
       "⎞ d        ⎞ d        ⎤\n",
       "⎠⋅──(q₁(t))⎟⋅──(q₁(t))⎥\n",
       "  dt       ⎠ dt       ⎦"
      ]
     },
     "execution_count": 216,
     "metadata": {},
     "output_type": "execute_result"
    }
   ],
   "source": [
    "K = 0.5 @ q_dot.T @ M @ q_dot\n",
    "K"
   ]
  },
  {
   "cell_type": "markdown",
   "metadata": {},
   "source": [
    "# Potential energy"
   ]
  },
  {
   "cell_type": "code",
   "execution_count": 217,
   "metadata": {},
   "outputs": [
    {
     "data": {
      "text/latex": [
       "$$\\left[\\begin{matrix}0\\end{matrix}\\right]$$"
      ],
      "text/plain": [
       "[0]"
      ]
     },
     "execution_count": 217,
     "metadata": {},
     "output_type": "execute_result"
    }
   ],
   "source": [
    "U = sp.Matrix([0])\n",
    "U"
   ]
  },
  {
   "cell_type": "markdown",
   "metadata": {},
   "source": [
    "# Coriolis matrix"
   ]
  },
  {
   "cell_type": "code",
   "execution_count": 218,
   "metadata": {},
   "outputs": [
    {
     "data": {
      "text/latex": [
       "$$\\left[\\begin{matrix}- 1.0 l_{1} l_{2} m_{2} \\sin{\\left (\\operatorname{q_{2}}{\\left (t \\right )} \\right )} & 1.0 l_{1} l_{2} m_{2} \\sin{\\left (\\operatorname{q_{2}}{\\left (t \\right )} \\right )}\\\\- 2.0 l_{1} l_{2} m_{2} \\sin{\\left (\\operatorname{q_{2}}{\\left (t \\right )} \\right )} & 0\\end{matrix}\\right]$$"
      ],
      "text/plain": [
       "⎡-1.0⋅l₁⋅l₂⋅m₂⋅sin(q₂(t))  1.0⋅l₁⋅l₂⋅m₂⋅sin(q₂(t))⎤\n",
       "⎢                                                 ⎥\n",
       "⎣-2.0⋅l₁⋅l₂⋅m₂⋅sin(q₂(t))             0           ⎦"
      ]
     },
     "execution_count": 218,
     "metadata": {},
     "output_type": "execute_result"
    }
   ],
   "source": [
    "def christoffel_symbols(M, i, j, k):\n",
    "    return 0.5 * (sp.diff(M[j,k], q[i]) + sp.diff(M[k,i], q[j]) - sp.diff(M[i,j], q[k]))\n",
    "\n",
    "c111 = christoffel_symbols(M, 0, 0, 0)\n",
    "c112 = christoffel_symbols(M, 0, 0, 1)\n",
    "c121 = christoffel_symbols(M, 0, 1, 0)\n",
    "c122 = christoffel_symbols(M, 0, 1, 1)\n",
    "c211 = christoffel_symbols(M, 1, 0, 0)\n",
    "c212 = christoffel_symbols(M, 1, 0, 1)\n",
    "c221 = christoffel_symbols(M, 1, 1, 0)\n",
    "c222 = christoffel_symbols(M, 1, 1, 1)\n",
    "\n",
    "C = sp.Matrix([[c111 + c211, c112 + c212], [c121 + c221, c122 + c222]])\n",
    "C"
   ]
  },
  {
   "cell_type": "markdown",
   "metadata": {},
   "source": [
    "# Lagrange equations"
   ]
  },
  {
   "cell_type": "code",
   "execution_count": 219,
   "metadata": {},
   "outputs": [],
   "source": [
    "#tau1, tau2 = sp.symbols('tau_1 tau_2', real=True)\n",
    "#tau = sp.Matrix([tau1, tau2])"
   ]
  },
  {
   "cell_type": "code",
   "execution_count": 220,
   "metadata": {},
   "outputs": [
    {
     "data": {
      "text/latex": [
       "$$\\left[\\begin{matrix}\\frac{d^{2}}{d t^{2}}  \\operatorname{q_{1}}{\\left (t \\right )}\\\\\\frac{d^{2}}{d t^{2}}  \\operatorname{q_{2}}{\\left (t \\right )}\\end{matrix}\\right]$$"
      ],
      "text/plain": [
       "⎡  2       ⎤\n",
       "⎢ d        ⎥\n",
       "⎢───(q₁(t))⎥\n",
       "⎢  2       ⎥\n",
       "⎢dt        ⎥\n",
       "⎢          ⎥\n",
       "⎢  2       ⎥\n",
       "⎢ d        ⎥\n",
       "⎢───(q₂(t))⎥\n",
       "⎢  2       ⎥\n",
       "⎣dt        ⎦"
      ]
     },
     "execution_count": 220,
     "metadata": {},
     "output_type": "execute_result"
    }
   ],
   "source": [
    "q_ddot = sp.diff(q_dot)\n",
    "q_ddot"
   ]
  },
  {
   "cell_type": "code",
   "execution_count": 221,
   "metadata": {},
   "outputs": [
    {
     "data": {
      "text/latex": [
       "$$\\left[\\begin{matrix}- 1.0 l_{1} l_{2} m_{2} \\sin{\\left (\\operatorname{q_{2}}{\\left (t \\right )} \\right )} \\frac{d}{d t} \\operatorname{q_{1}}{\\left (t \\right )} + 1.0 l_{1} l_{2} m_{2} \\sin{\\left (\\operatorname{q_{2}}{\\left (t \\right )} \\right )} \\frac{d}{d t} \\operatorname{q_{2}}{\\left (t \\right )} + \\left(I_{2 12} + l_{1} l_{2} m_{2} \\cos{\\left (\\operatorname{q_{2}}{\\left (t \\right )} \\right )} + l_{2}^{2} m_{2}\\right) \\frac{d^{2}}{d t^{2}}  \\operatorname{q_{2}}{\\left (t \\right )} + \\left(I_{1 11} + I_{2 11} + l_{1}^{2} m_{1} + l_{1}^{2} m_{2} + 2 l_{1} l_{2} m_{2} \\cos{\\left (\\operatorname{q_{2}}{\\left (t \\right )} \\right )} + l_{2}^{2} m_{2}\\right) \\frac{d^{2}}{d t^{2}}  \\operatorname{q_{1}}{\\left (t \\right )}\\\\- 2.0 l_{1} l_{2} m_{2} \\sin{\\left (\\operatorname{q_{2}}{\\left (t \\right )} \\right )} \\frac{d}{d t} \\operatorname{q_{1}}{\\left (t \\right )} + \\left(I_{2 22} + l_{2}^{2} m_{2}\\right) \\frac{d^{2}}{d t^{2}}  \\operatorname{q_{2}}{\\left (t \\right )} + \\left(I_{1 21} + I_{2 21} + l_{1} l_{2} m_{2} \\cos{\\left (\\operatorname{q_{2}}{\\left (t \\right )} \\right )} + l_{2}^{2} m_{2}\\right) \\frac{d^{2}}{d t^{2}}  \\operatorname{q_{1}}{\\left (t \\right )}\\end{matrix}\\right]$$"
      ],
      "text/plain": [
       "⎡                                                                             \n",
       "⎢                          d                                   d           ⎛  \n",
       "⎢- 1.0⋅l₁⋅l₂⋅m₂⋅sin(q₂(t))⋅──(q₁(t)) + 1.0⋅l₁⋅l₂⋅m₂⋅sin(q₂(t))⋅──(q₂(t)) + ⎝I₂\n",
       "⎢                          dt                                  dt             \n",
       "⎢                                                                             \n",
       "⎢                                                                             \n",
       "⎢                                                                             \n",
       "⎢                                                                 d           \n",
       "⎢                                       - 2.0⋅l₁⋅l₂⋅m₂⋅sin(q₂(t))⋅──(q₁(t)) + \n",
       "⎢                                                                 dt          \n",
       "⎣                                                                             \n",
       "\n",
       "                                      2                                       \n",
       "                              2   ⎞  d           ⎛                  2        2\n",
       " ₁₂ + l₁⋅l₂⋅m₂⋅cos(q₂(t)) + l₂ ⋅m₂⎠⋅───(q₂(t)) + ⎝I₁ ₁₁ + I₂ ₁₁ + l₁ ⋅m₁ + l₁ \n",
       "                                      2                                       \n",
       "                                    dt                                        \n",
       "                                                                              \n",
       "                   2                                                          \n",
       "⎛          2   ⎞  d           ⎛                                        2   ⎞  \n",
       "⎝I₂ ₂₂ + l₂ ⋅m₂⎠⋅───(q₂(t)) + ⎝I₁ ₂₁ + I₂ ₂₁ + l₁⋅l₂⋅m₂⋅cos(q₂(t)) + l₂ ⋅m₂⎠⋅─\n",
       "                   2                                                          \n",
       "                 dt                                                          d\n",
       "\n",
       "                                        2       ⎤\n",
       "                                2   ⎞  d        ⎥\n",
       "⋅m₂ + 2⋅l₁⋅l₂⋅m₂⋅cos(q₂(t)) + l₂ ⋅m₂⎠⋅───(q₁(t))⎥\n",
       "                                        2       ⎥\n",
       "                                      dt        ⎥\n",
       "                                                ⎥\n",
       " 2                                              ⎥\n",
       "d                                               ⎥\n",
       "──(q₁(t))                                       ⎥\n",
       " 2                                              ⎥\n",
       "t                                               ⎦"
      ]
     },
     "execution_count": 221,
     "metadata": {},
     "output_type": "execute_result"
    }
   ],
   "source": [
    "tau = M @ q_ddot + C @ q_dot\n",
    "tau"
   ]
  }
 ],
 "metadata": {
  "kernelspec": {
   "display_name": "Python 3",
   "language": "python",
   "name": "python3"
  },
  "language_info": {
   "codemirror_mode": {
    "name": "ipython",
    "version": 3
   },
   "file_extension": ".py",
   "mimetype": "text/x-python",
   "name": "python",
   "nbconvert_exporter": "python",
   "pygments_lexer": "ipython3",
   "version": "3.5.3"
  }
 },
 "nbformat": 4,
 "nbformat_minor": 2
}
