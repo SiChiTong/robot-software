{
 "cells": [
  {
   "cell_type": "code",
   "execution_count": 7,
   "metadata": {},
   "outputs": [],
   "source": [
    "%matplotlib inline\n",
    "import matplotlib.pyplot as plt\n",
    "import sympy as sp \n",
    "import numpy as np\n",
    "import pylab\n",
    "sp.init_printing()"
   ]
  },
  {
   "cell_type": "code",
   "execution_count": 19,
   "metadata": {},
   "outputs": [],
   "source": [
    "l1, l2 = sp.symbols('l1 l2', real=True)\n",
    "alpha, beta = sp.physics.vector.dynamicsymbols('alpha beta')\n",
    "\n",
    "x = l1 * sp.cos(alpha) + l2 * sp.cos(alpha + beta)\n",
    "y = l1 * sp.sin(alpha) + l2 * sp.sin(alpha + beta)"
   ]
  },
  {
   "cell_type": "code",
   "execution_count": 20,
   "metadata": {},
   "outputs": [
    {
     "data": {
      "text/latex": [
       "$$\\left[\\begin{matrix}\\alpha{\\left (t \\right )}\\\\\\beta{\\left (t \\right )}\\end{matrix}\\right]$$"
      ],
      "text/plain": [
       "⎡α(t)⎤\n",
       "⎢    ⎥\n",
       "⎣β(t)⎦"
      ]
     },
     "execution_count": 20,
     "metadata": {},
     "output_type": "execute_result"
    }
   ],
   "source": [
    "q = sp.Matrix([alpha, beta])\n",
    "q"
   ]
  },
  {
   "cell_type": "code",
   "execution_count": 21,
   "metadata": {},
   "outputs": [
    {
     "data": {
      "text/latex": [
       "$$\\left[\\begin{matrix}l_{1} \\cos{\\left (\\alpha{\\left (t \\right )} \\right )} + l_{2} \\cos{\\left (\\alpha{\\left (t \\right )} + \\beta{\\left (t \\right )} \\right )}\\\\l_{1} \\sin{\\left (\\alpha{\\left (t \\right )} \\right )} + l_{2} \\sin{\\left (\\alpha{\\left (t \\right )} + \\beta{\\left (t \\right )} \\right )}\\end{matrix}\\right]$$"
      ],
      "text/plain": [
       "⎡l₁⋅cos(α(t)) + l₂⋅cos(α(t) + β(t))⎤\n",
       "⎢                                  ⎥\n",
       "⎣l₁⋅sin(α(t)) + l₂⋅sin(α(t) + β(t))⎦"
      ]
     },
     "execution_count": 21,
     "metadata": {},
     "output_type": "execute_result"
    }
   ],
   "source": [
    "P = sp.Matrix([x, y])\n",
    "P"
   ]
  },
  {
   "cell_type": "code",
   "execution_count": 22,
   "metadata": {},
   "outputs": [
    {
     "data": {
      "text/latex": [
       "$$\\left[\\begin{matrix}- l_{1} \\sin{\\left (\\alpha{\\left (t \\right )} \\right )} - l_{2} \\sin{\\left (\\alpha{\\left (t \\right )} + \\beta{\\left (t \\right )} \\right )} & - l_{2} \\sin{\\left (\\alpha{\\left (t \\right )} + \\beta{\\left (t \\right )} \\right )}\\\\l_{1} \\cos{\\left (\\alpha{\\left (t \\right )} \\right )} + l_{2} \\cos{\\left (\\alpha{\\left (t \\right )} + \\beta{\\left (t \\right )} \\right )} & l_{2} \\cos{\\left (\\alpha{\\left (t \\right )} + \\beta{\\left (t \\right )} \\right )}\\end{matrix}\\right]$$"
      ],
      "text/plain": [
       "⎡-l₁⋅sin(α(t)) - l₂⋅sin(α(t) + β(t))  -l₂⋅sin(α(t) + β(t))⎤\n",
       "⎢                                                         ⎥\n",
       "⎣l₁⋅cos(α(t)) + l₂⋅cos(α(t) + β(t))   l₂⋅cos(α(t) + β(t)) ⎦"
      ]
     },
     "execution_count": 22,
     "metadata": {},
     "output_type": "execute_result"
    }
   ],
   "source": [
    "J = P.jacobian([alpha, beta])\n",
    "J"
   ]
  },
  {
   "cell_type": "code",
   "execution_count": 29,
   "metadata": {},
   "outputs": [
    {
     "data": {
      "text/latex": [
       "$$\\left[\\begin{matrix}\\frac{d}{d t} \\alpha{\\left (t \\right )}\\\\\\frac{d}{d t} \\beta{\\left (t \\right )}\\end{matrix}\\right]$$"
      ],
      "text/plain": [
       "⎡d       ⎤\n",
       "⎢──(α(t))⎥\n",
       "⎢dt      ⎥\n",
       "⎢        ⎥\n",
       "⎢d       ⎥\n",
       "⎢──(β(t))⎥\n",
       "⎣dt      ⎦"
      ]
     },
     "execution_count": 29,
     "metadata": {},
     "output_type": "execute_result"
    }
   ],
   "source": [
    "q_dot = sp.diff(q)\n",
    "alpha_dot = q_dot[0]\n",
    "beta_dot = q_dot[1]\n",
    "q_dot"
   ]
  },
  {
   "cell_type": "code",
   "execution_count": 30,
   "metadata": {},
   "outputs": [
    {
     "data": {
      "text/latex": [
       "$$\\left[\\begin{matrix}- l_{2} \\sin{\\left (\\alpha{\\left (t \\right )} + \\beta{\\left (t \\right )} \\right )} \\frac{d}{d t} \\beta{\\left (t \\right )} + \\left(- l_{1} \\sin{\\left (\\alpha{\\left (t \\right )} \\right )} - l_{2} \\sin{\\left (\\alpha{\\left (t \\right )} + \\beta{\\left (t \\right )} \\right )}\\right) \\frac{d}{d t} \\alpha{\\left (t \\right )}\\\\l_{2} \\cos{\\left (\\alpha{\\left (t \\right )} + \\beta{\\left (t \\right )} \\right )} \\frac{d}{d t} \\beta{\\left (t \\right )} + \\left(l_{1} \\cos{\\left (\\alpha{\\left (t \\right )} \\right )} + l_{2} \\cos{\\left (\\alpha{\\left (t \\right )} + \\beta{\\left (t \\right )} \\right )}\\right) \\frac{d}{d t} \\alpha{\\left (t \\right )}\\end{matrix}\\right]$$"
      ],
      "text/plain": [
       "⎡                      d                                                d     \n",
       "⎢- l₂⋅sin(α(t) + β(t))⋅──(β(t)) + (-l₁⋅sin(α(t)) - l₂⋅sin(α(t) + β(t)))⋅──(α(t\n",
       "⎢                      dt                                               dt    \n",
       "⎢                                                                             \n",
       "⎢                     d                                               d       \n",
       "⎢ l₂⋅cos(α(t) + β(t))⋅──(β(t)) + (l₁⋅cos(α(t)) + l₂⋅cos(α(t) + β(t)))⋅──(α(t))\n",
       "⎣                     dt                                              dt      \n",
       "\n",
       "  ⎤\n",
       "))⎥\n",
       "  ⎥\n",
       "  ⎥\n",
       "  ⎥\n",
       "  ⎥\n",
       "  ⎦"
      ]
     },
     "execution_count": 30,
     "metadata": {},
     "output_type": "execute_result"
    }
   ],
   "source": [
    "P_dot = J @ q_dot\n",
    "x_dot = P_dot[0]\n",
    "y_dot = P_dot[1]\n",
    "P_dot"
   ]
  },
  {
   "cell_type": "code",
   "execution_count": 28,
   "metadata": {},
   "outputs": [
    {
     "data": {
      "text/latex": [
       "$$\\left[\\begin{matrix}\\frac{d}{d t} \\alpha{\\left (t \\right )}\\\\\\frac{d}{d t} \\beta{\\left (t \\right )}\\end{matrix}\\right]$$"
      ],
      "text/plain": [
       "⎡d       ⎤\n",
       "⎢──(α(t))⎥\n",
       "⎢dt      ⎥\n",
       "⎢        ⎥\n",
       "⎢d       ⎥\n",
       "⎢──(β(t))⎥\n",
       "⎣dt      ⎦"
      ]
     },
     "execution_count": 28,
     "metadata": {},
     "output_type": "execute_result"
    }
   ],
   "source": [
    "u = q_dot\n",
    "u"
   ]
  },
  {
   "cell_type": "code",
   "execution_count": 33,
   "metadata": {},
   "outputs": [
    {
     "data": {
      "text/latex": [
       "$$\\left[\\begin{matrix}l_{1} \\cos{\\left (\\alpha{\\left (t \\right )} \\right )} + l_{2} \\cos{\\left (\\alpha{\\left (t \\right )} + \\beta{\\left (t \\right )} \\right )}\\\\l_{1} \\sin{\\left (\\alpha{\\left (t \\right )} \\right )} + l_{2} \\sin{\\left (\\alpha{\\left (t \\right )} + \\beta{\\left (t \\right )} \\right )}\\\\\\alpha{\\left (t \\right )}\\\\\\beta{\\left (t \\right )}\\\\- l_{2} \\sin{\\left (\\alpha{\\left (t \\right )} + \\beta{\\left (t \\right )} \\right )} \\frac{d}{d t} \\beta{\\left (t \\right )} + \\left(- l_{1} \\sin{\\left (\\alpha{\\left (t \\right )} \\right )} - l_{2} \\sin{\\left (\\alpha{\\left (t \\right )} + \\beta{\\left (t \\right )} \\right )}\\right) \\frac{d}{d t} \\alpha{\\left (t \\right )}\\\\l_{2} \\cos{\\left (\\alpha{\\left (t \\right )} + \\beta{\\left (t \\right )} \\right )} \\frac{d}{d t} \\beta{\\left (t \\right )} + \\left(l_{1} \\cos{\\left (\\alpha{\\left (t \\right )} \\right )} + l_{2} \\cos{\\left (\\alpha{\\left (t \\right )} + \\beta{\\left (t \\right )} \\right )}\\right) \\frac{d}{d t} \\alpha{\\left (t \\right )}\\\\\\frac{d}{d t} \\alpha{\\left (t \\right )}\\\\\\frac{d}{d t} \\beta{\\left (t \\right )}\\end{matrix}\\right]$$"
      ],
      "text/plain": [
       "⎡                      l₁⋅cos(α(t)) + l₂⋅cos(α(t) + β(t))                     \n",
       "⎢                                                                             \n",
       "⎢                      l₁⋅sin(α(t)) + l₂⋅sin(α(t) + β(t))                     \n",
       "⎢                                                                             \n",
       "⎢                                     α(t)                                    \n",
       "⎢                                                                             \n",
       "⎢                                     β(t)                                    \n",
       "⎢                                                                             \n",
       "⎢                      d                                                d     \n",
       "⎢- l₂⋅sin(α(t) + β(t))⋅──(β(t)) + (-l₁⋅sin(α(t)) - l₂⋅sin(α(t) + β(t)))⋅──(α(t\n",
       "⎢                      dt                                               dt    \n",
       "⎢                                                                             \n",
       "⎢                     d                                               d       \n",
       "⎢ l₂⋅cos(α(t) + β(t))⋅──(β(t)) + (l₁⋅cos(α(t)) + l₂⋅cos(α(t) + β(t)))⋅──(α(t))\n",
       "⎢                     dt                                              dt      \n",
       "⎢                                                                             \n",
       "⎢                                   d                                         \n",
       "⎢                                   ──(α(t))                                  \n",
       "⎢                                   dt                                        \n",
       "⎢                                                                             \n",
       "⎢                                   d                                         \n",
       "⎢                                   ──(β(t))                                  \n",
       "⎣                                   dt                                        \n",
       "\n",
       "  ⎤\n",
       "  ⎥\n",
       "  ⎥\n",
       "  ⎥\n",
       "  ⎥\n",
       "  ⎥\n",
       "  ⎥\n",
       "  ⎥\n",
       "  ⎥\n",
       "))⎥\n",
       "  ⎥\n",
       "  ⎥\n",
       "  ⎥\n",
       "  ⎥\n",
       "  ⎥\n",
       "  ⎥\n",
       "  ⎥\n",
       "  ⎥\n",
       "  ⎥\n",
       "  ⎥\n",
       "  ⎥\n",
       "  ⎥\n",
       "  ⎦"
      ]
     },
     "execution_count": 33,
     "metadata": {},
     "output_type": "execute_result"
    }
   ],
   "source": [
    "f_x = sp.Matrix([x, y, alpha, beta, x_dot, y_dot, alpha_dot, beta_dot])\n",
    "f_x"
   ]
  },
  {
   "cell_type": "code",
   "execution_count": null,
   "metadata": {},
   "outputs": [],
   "source": []
  }
 ],
 "metadata": {
  "kernelspec": {
   "display_name": "Python 3",
   "language": "python",
   "name": "python3"
  },
  "language_info": {
   "codemirror_mode": {
    "name": "ipython",
    "version": 3
   },
   "file_extension": ".py",
   "mimetype": "text/x-python",
   "name": "python",
   "nbconvert_exporter": "python",
   "pygments_lexer": "ipython3",
   "version": "3.5.3"
  }
 },
 "nbformat": 4,
 "nbformat_minor": 2
}
